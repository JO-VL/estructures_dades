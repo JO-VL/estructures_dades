{
 "cells": [
  {
   "cell_type": "markdown",
   "id": "3e62ba6f",
   "metadata": {},
   "source": [
    "# EXERCICI 1"
   ]
  },
  {
   "cell_type": "markdown",
   "id": "b3fb2af5",
   "metadata": {},
   "source": [
    "### Crea una llista que agrupi els mesos de l’any en trimestres (1T: gener, febrer i març; 2T: abril, maig, juny...), és a dir, una llista amb 4 llistes dins."
   ]
  },
  {
   "cell_type": "code",
   "execution_count": 1,
   "id": "1bab5310",
   "metadata": {},
   "outputs": [],
   "source": [
    "mesos = [[\"gener\", \"febrer\", \"març\"],[\"abril\", \"maig\", \"juny\"],[\"juliol\", \"agost\", \"setembre\"],[\"octubre\", \"novembre\", \"desembre\"]]"
   ]
  },
  {
   "cell_type": "markdown",
   "id": "e2aed3c0",
   "metadata": {},
   "source": [
    "# EXERCICI 2"
   ]
  },
  {
   "cell_type": "markdown",
   "id": "8d076f81",
   "metadata": {},
   "source": [
    "### Crea un codi que et permeti accedir a:"
   ]
  },
  {
   "cell_type": "markdown",
   "id": "4e3a4f2b",
   "metadata": {},
   "source": [
    "### El segon mes del primer trimestre."
   ]
  },
  {
   "cell_type": "code",
   "execution_count": 2,
   "id": "c972c4c1",
   "metadata": {},
   "outputs": [
    {
     "name": "stdout",
     "output_type": "stream",
     "text": [
      "El segon mes del primer trimestre és febrer\n"
     ]
    }
   ],
   "source": [
    "print(\"El segon mes del primer trimestre és\", mesos[0][1])"
   ]
  },
  {
   "cell_type": "markdown",
   "id": "93d4e2a7",
   "metadata": {},
   "source": [
    "### Els mesos del primer trimestre."
   ]
  },
  {
   "cell_type": "code",
   "execution_count": 3,
   "id": "ca4f5f86",
   "metadata": {},
   "outputs": [
    {
     "name": "stdout",
     "output_type": "stream",
     "text": [
      "Els mesos del primer trimestre són ['gener', 'febrer', 'març']\n"
     ]
    }
   ],
   "source": [
    "print(\"Els mesos del primer trimestre són\", mesos[0])"
   ]
  },
  {
   "cell_type": "markdown",
   "id": "c157e77e",
   "metadata": {},
   "source": [
    "### Setembre i octubre."
   ]
  },
  {
   "cell_type": "code",
   "execution_count": 4,
   "id": "dd0e05fd",
   "metadata": {},
   "outputs": [
    {
     "name": "stdout",
     "output_type": "stream",
     "text": [
      "Setembre i octubre: setembre i octubre\n"
     ]
    }
   ],
   "source": [
    "print(\"Setembre i octubre:\", mesos[2][2],\"i\", mesos[3][0])"
   ]
  },
  {
   "cell_type": "markdown",
   "id": "fb29f781",
   "metadata": {},
   "source": [
    "# EXERCICI 3"
   ]
  },
  {
   "cell_type": "markdown",
   "id": "e29166ab",
   "metadata": {},
   "source": [
    "### Crea una llista amb nombres desordenats i respon a les següents preguntes:"
   ]
  },
  {
   "cell_type": "code",
   "execution_count": 5,
   "id": "4912a82b",
   "metadata": {},
   "outputs": [
    {
     "name": "stdout",
     "output_type": "stream",
     "text": [
      "Llista de nombres desordenats: [8, 9, 8, 9, 1, 8, 6, 9, 3, 4, 4, 9, 7, 6, 2, 9, 7, 4, 5, 2]\n"
     ]
    }
   ],
   "source": [
    "import random\n",
    "\n",
    "nums = []\n",
    "\n",
    "for i in range(20):\n",
    "    nums.append(random.randint(1,9))\n",
    "\n",
    "\n",
    "print(\"Llista de nombres desordenats:\", nums)"
   ]
  },
  {
   "cell_type": "markdown",
   "id": "d2325236",
   "metadata": {},
   "source": [
    "### Quants números hi ha?"
   ]
  },
  {
   "cell_type": "code",
   "execution_count": 6,
   "id": "be9d7311",
   "metadata": {},
   "outputs": [
    {
     "name": "stdout",
     "output_type": "stream",
     "text": [
      "Hi ha 20 números.\n"
     ]
    }
   ],
   "source": [
    "print(\"Hi ha\", len(nums), \"números.\")"
   ]
  },
  {
   "cell_type": "markdown",
   "id": "369fece7",
   "metadata": {},
   "source": [
    "### Quantes vegades apareix el número 3."
   ]
  },
  {
   "cell_type": "code",
   "execution_count": 7,
   "id": "b7f141f2",
   "metadata": {},
   "outputs": [
    {
     "name": "stdout",
     "output_type": "stream",
     "text": [
      "El número 3 apareix 1 vegades.\n"
     ]
    }
   ],
   "source": [
    "print(\"El número 3 apareix\", nums.count(3), \"vegades.\")"
   ]
  },
  {
   "cell_type": "markdown",
   "id": "13e9e627",
   "metadata": {},
   "source": [
    "### Quantes vegades apareixen els nombres 3 i 4?"
   ]
  },
  {
   "cell_type": "code",
   "execution_count": 8,
   "id": "919bc922",
   "metadata": {},
   "outputs": [
    {
     "name": "stdout",
     "output_type": "stream",
     "text": [
      "Els nombres 3 i 4 apareixen 4 vegades.\n"
     ]
    }
   ],
   "source": [
    "print(\"Els nombres 3 i 4 apareixen\", nums.count(3) +  nums.count(4), \"vegades.\")"
   ]
  },
  {
   "cell_type": "markdown",
   "id": "bf9adaaf",
   "metadata": {},
   "source": [
    "### Quin és el número més gran?"
   ]
  },
  {
   "cell_type": "code",
   "execution_count": 9,
   "id": "5e93db75",
   "metadata": {},
   "outputs": [
    {
     "name": "stdout",
     "output_type": "stream",
     "text": [
      "El número més gran és el 9\n"
     ]
    }
   ],
   "source": [
    "print(\"El número més gran és el\", max(nums))"
   ]
  },
  {
   "cell_type": "markdown",
   "id": "99ae1153",
   "metadata": {},
   "source": [
    "### Quins són els 3 números més petits?"
   ]
  },
  {
   "cell_type": "code",
   "execution_count": 10,
   "id": "9eac69d3",
   "metadata": {},
   "outputs": [
    {
     "name": "stdout",
     "output_type": "stream",
     "text": [
      "Els tres números més petits són: [1, 2, 2] \n",
      "\n",
      "Els tres números diferents més petits són: [1, 2, 3]\n"
     ]
    }
   ],
   "source": [
    "nums_ordenat = sorted(nums)\n",
    "\n",
    "print(\"Els tres números més petits són:\", nums_ordenat[0:3],\"\\n\")\n",
    "\n",
    "nums_2 = list(set(nums_ordenat))\n",
    "\n",
    "print(\"Els tres números diferents més petits són:\", nums_2[0:3])"
   ]
  },
  {
   "cell_type": "markdown",
   "id": "24205686",
   "metadata": {},
   "source": [
    "### Quin és el rang d’aquesta llista?"
   ]
  },
  {
   "cell_type": "code",
   "execution_count": 11,
   "id": "1c1d253e",
   "metadata": {},
   "outputs": [
    {
     "name": "stdout",
     "output_type": "stream",
     "text": [
      "El rang d'aquesta llista va del 1 al 9\n"
     ]
    }
   ],
   "source": [
    "print(\"El rang d'aquesta llista va del\", min(nums), \"al\", max(nums))"
   ]
  },
  {
   "cell_type": "markdown",
   "id": "927db3a7",
   "metadata": {},
   "source": [
    "# EXERCICI 4"
   ]
  },
  {
   "cell_type": "markdown",
   "id": "8d586f65",
   "metadata": {},
   "source": [
    "### Crea un diccionari de la següent forma i respon a les preguntes:\n",
    "\n",
    "### compra = { \"Pomes\" : {\"Qty\": 5, \"€\": 0.42}, \"Peres\" : {\"Qty\": 3, \"€\": 0.66} }"
   ]
  },
  {
   "cell_type": "code",
   "execution_count": 12,
   "id": "0eb8c378",
   "metadata": {},
   "outputs": [
    {
     "name": "stdout",
     "output_type": "stream",
     "text": [
      "{'Pomes': {'Qty': 5, '€': 0.42}, 'Peres': {'Qty': 3, '€': 0.66}}\n"
     ]
    }
   ],
   "source": [
    "compra = {\"Pomes\" : {\"Qty\": 5, \"€\": 0.42}, \n",
    "          \"Peres\" : {\"Qty\": 3, \"€\": 0.66}}\n",
    "\n",
    "print(compra)"
   ]
  },
  {
   "cell_type": "markdown",
   "id": "08f715c2",
   "metadata": {},
   "source": [
    "### Afegeix alguna fruita més"
   ]
  },
  {
   "cell_type": "code",
   "execution_count": 13,
   "id": "a1d5df02",
   "metadata": {},
   "outputs": [
    {
     "name": "stdout",
     "output_type": "stream",
     "text": [
      "He afegit plàtans \n",
      " \n",
      " {'Pomes': {'Qty': 5, '€': 0.42}, 'Peres': {'Qty': 3, '€': 0.66}, 'Plàtans': {'Qty': 2, '€': 0.53}}\n"
     ]
    }
   ],
   "source": [
    "compra[\"Plàtans\"] = {\"Qty\": 2, \"€\": 0.53}\n",
    "\n",
    "print(\"He afegit plàtans \\n \\n\", compra)"
   ]
  },
  {
   "cell_type": "markdown",
   "id": "c8595c5a",
   "metadata": {},
   "source": [
    "### Quant han costat les peres en total?"
   ]
  },
  {
   "cell_type": "code",
   "execution_count": 14,
   "id": "8a9ea0b5",
   "metadata": {},
   "outputs": [
    {
     "name": "stdout",
     "output_type": "stream",
     "text": [
      "El cost total de les peres és: 1.98 €\n"
     ]
    }
   ],
   "source": [
    "cost_peres = compra[\"Peres\"][\"Qty\"] * compra[\"Peres\"][\"€\"]\n",
    "\n",
    "print(\"El cost total de les peres és:\", cost_peres, \"€\")"
   ]
  },
  {
   "cell_type": "markdown",
   "id": "b21909fa",
   "metadata": {},
   "source": [
    "### Quantes fruites hem comprat en total?"
   ]
  },
  {
   "cell_type": "code",
   "execution_count": 15,
   "id": "2020824b",
   "metadata": {},
   "outputs": [
    {
     "name": "stdout",
     "output_type": "stream",
     "text": [
      "En total hem comprat 10 fruites\n"
     ]
    }
   ],
   "source": [
    "total = compra[\"Peres\"][\"Qty\"] + compra[\"Pomes\"][\"Qty\"] + compra[\"Plàtans\"][\"Qty\"] \n",
    "\n",
    "print(\"En total hem comprat\", total, \"fruites\")"
   ]
  },
  {
   "cell_type": "markdown",
   "id": "dd6349bc",
   "metadata": {},
   "source": [
    "### Quina és la fruita més cara?"
   ]
  },
  {
   "cell_type": "code",
   "execution_count": 16,
   "id": "cec894ab",
   "metadata": {},
   "outputs": [
    {
     "name": "stdout",
     "output_type": "stream",
     "text": [
      "La fruita més cara són les Peres\n"
     ]
    }
   ],
   "source": [
    "cara = max(compra, key=lambda x: compra[x][\"€\"])\n",
    "\n",
    "print(\"La fruita més cara són les\", cara)\n"
   ]
  }
 ],
 "metadata": {
  "kernelspec": {
   "display_name": "Python 3 (ipykernel)",
   "language": "python",
   "name": "python3"
  },
  "language_info": {
   "codemirror_mode": {
    "name": "ipython",
    "version": 3
   },
   "file_extension": ".py",
   "mimetype": "text/x-python",
   "name": "python",
   "nbconvert_exporter": "python",
   "pygments_lexer": "ipython3",
   "version": "3.10.9"
  }
 },
 "nbformat": 4,
 "nbformat_minor": 5
}
